{
  "cells": [
    {
      "metadata": {},
      "cell_type": "markdown",
      "source": "# Neural Network from Scratch"
    },
    {
      "metadata": {},
      "cell_type": "markdown",
      "source": "Taken from https://towardsdatascience.com/how-to-build-your-own-neural-network-from-scratch-in-python-68998a08e4f6"
    },
    {
      "metadata": {
        "trusted": true
      },
      "cell_type": "code",
      "source": "import numpy as np\n\n\ndef sigmoid(x):\n    return 1.0/(1+ np.exp(-x))\n\n\ndef sigmoid_derivative(x):\n    return x * (1.0 - x)\n\n\nclass NeuralNetwork:\n    def __init__(self, x, y):\n        self.input = x\n        self.weights1 = np.random.rand(self.input.shape[1], 4) \n        self.weights2 = np.random.rand(4, 1)                 \n        self.y = y\n        self.output = np.zeros(self.y.shape)\n\n        \n    def feedforward(self):\n        self.layer1 = sigmoid(np.dot(self.input, self.weights1))\n        self.output = sigmoid(np.dot(self.layer1, self.weights2))\n\n        \n    def backprop(self):\n        d_weights2 = np.dot(self.layer1.T, (2*(self.y - self.output) * sigmoid_derivative(self.output)))\n        d_weights1 = np.dot(self.input.T, (np.dot(2*(self.y - self.output) * sigmoid_derivative(self.output), self.weights2.T) * sigmoid_derivative(self.layer1)))\n\n        # update the weights with the derivative (slope) of the loss function\n        self.weights1 += d_weights1\n        self.weights2 += d_weights2\n        \n        \nif __name__ == \"__main__\":\n    X = np.array([[0,0,1],\n                  [0,1,1],\n                  [1,0,1],\n                  [1,1,1]])\n    y = np.array([[0],[1],[1],[0]])\n    nn = NeuralNetwork(X,y)\n\n    for i in range(2000):\n        nn.feedforward()\n        nn.backprop()\n\n    print(nn.output)",
      "execution_count": 3,
      "outputs": [
        {
          "output_type": "stream",
          "text": "[[0.00771874]\n [0.97644887]\n [0.97702377]\n [0.02878588]]\n",
          "name": "stdout"
        }
      ]
    },
    {
      "metadata": {
        "trusted": true
      },
      "cell_type": "code",
      "source": "",
      "execution_count": null,
      "outputs": []
    }
  ],
  "metadata": {
    "kernelspec": {
      "name": "python3",
      "display_name": "Python 3",
      "language": "python"
    },
    "language_info": {
      "mimetype": "text/x-python",
      "nbconvert_exporter": "python",
      "name": "python",
      "file_extension": ".py",
      "version": "3.5.4",
      "pygments_lexer": "ipython3",
      "codemirror_mode": {
        "version": 3,
        "name": "ipython"
      }
    }
  },
  "nbformat": 4,
  "nbformat_minor": 1
}